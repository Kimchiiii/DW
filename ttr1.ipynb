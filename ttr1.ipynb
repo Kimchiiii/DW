{
  "nbformat": 4,
  "nbformat_minor": 0,
  "metadata": {
    "colab": {
      "name": "ttr1.ipynb",
      "provenance": [],
      "collapsed_sections": [],
      "include_colab_link": true
    },
    "kernelspec": {
      "name": "python3",
      "display_name": "Python 3"
    }
  },
  "cells": [
    {
      "cell_type": "markdown",
      "metadata": {
        "id": "view-in-github",
        "colab_type": "text"
      },
      "source": [
        "<a href=\"https://colab.research.google.com/github/Kimchiiii/DW/blob/master/ttr1.ipynb\" target=\"_parent\"><img src=\"https://colab.research.google.com/assets/colab-badge.svg\" alt=\"Open In Colab\"/></a>"
      ]
    },
    {
      "cell_type": "markdown",
      "metadata": {
        "id": "bePLEfY9iQZu",
        "colab_type": "text"
      },
      "source": [
        "# Hello pyton \n",
        "## hello pyton\n",
        "### hello pyton\n",
        "#### hello pyton\n",
        "##### hello pyton\n",
        "###### hello pyton\n",
        "\n"
      ]
    },
    {
      "cell_type": "code",
      "metadata": {
        "id": "Y5S1GF2-iNv6",
        "colab_type": "code",
        "outputId": "79a60a9b-51b0-45e3-fa55-d07d941cfad7",
        "colab": {
          "base_uri": "https://localhost:8080/",
          "height": 34
        }
      },
      "source": [
        "print(\"hello world\")"
      ],
      "execution_count": 0,
      "outputs": [
        {
          "output_type": "stream",
          "text": [
            "hello world\n"
          ],
          "name": "stdout"
        }
      ]
    },
    {
      "cell_type": "markdown",
      "metadata": {
        "id": "DrV5uQ9ejMUv",
        "colab_type": "text"
      },
      "source": [
        "#declare varible\n",
        "How to declare varible in pyton"
      ]
    },
    {
      "cell_type": "code",
      "metadata": {
        "id": "zP09iictjOEe",
        "colab_type": "code",
        "outputId": "8df8552d-7940-49e8-dbf4-adb70fd56489",
        "colab": {
          "base_uri": "https://localhost:8080/",
          "height": 34
        }
      },
      "source": [
        "score = 100\n",
        "name = \"Napar\"\n",
        "print(\" name is \" + name +  \" score is \" + str(score))\n"
      ],
      "execution_count": 0,
      "outputs": [
        {
          "output_type": "stream",
          "text": [
            " name is Napar score is 100\n"
          ],
          "name": "stdout"
        }
      ]
    },
    {
      "cell_type": "code",
      "metadata": {
        "id": "wzJxizR2kFZm",
        "colab_type": "code",
        "outputId": "ef2ca2db-cbc7-4368-dd54-ad88be006a54",
        "colab": {
          "base_uri": "https://localhost:8080/",
          "height": 34
        }
      },
      "source": [
        "a = 2\n",
        "b = 3\n",
        "c = a * b\n",
        "print(c)"
      ],
      "execution_count": 0,
      "outputs": [
        {
          "output_type": "stream",
          "text": [
            "6\n"
          ],
          "name": "stdout"
        }
      ]
    },
    {
      "cell_type": "markdown",
      "metadata": {
        "id": "LdpPI5ZEnxv5",
        "colab_type": "text"
      },
      "source": [
        "#LIST"
      ]
    },
    {
      "cell_type": "markdown",
      "metadata": {
        "id": "8dOjo7iOmx7w",
        "colab_type": "text"
      },
      "source": [
        "## How to use List in pyton\n"
      ]
    },
    {
      "cell_type": "code",
      "metadata": {
        "id": "KkRZWVOkkjhu",
        "colab_type": "code",
        "outputId": "66a65a84-823b-40bc-a0b2-1ba328466b38",
        "colab": {
          "base_uri": "https://localhost:8080/",
          "height": 34
        }
      },
      "source": [
        "mylist = []\n",
        "mylist.append(\"Napar\")\n",
        "mylist.append(200)\n",
        "mylist\n"
      ],
      "execution_count": 0,
      "outputs": [
        {
          "output_type": "execute_result",
          "data": {
            "text/plain": [
              "['Napar', 200]"
            ]
          },
          "metadata": {
            "tags": []
          },
          "execution_count": 6
        }
      ]
    },
    {
      "cell_type": "markdown",
      "metadata": {
        "id": "k8qt2HK9nJEZ",
        "colab_type": "text"
      },
      "source": [
        "## How to count List"
      ]
    },
    {
      "cell_type": "code",
      "metadata": {
        "id": "FzbvdScYnJLR",
        "colab_type": "code",
        "outputId": "b0832f91-b0f6-4426-a04a-0f7bb0e5f657",
        "colab": {
          "base_uri": "https://localhost:8080/",
          "height": 34
        }
      },
      "source": [
        "len(mylist)"
      ],
      "execution_count": 0,
      "outputs": [
        {
          "output_type": "execute_result",
          "data": {
            "text/plain": [
              "2"
            ]
          },
          "metadata": {
            "tags": []
          },
          "execution_count": 7
        }
      ]
    },
    {
      "cell_type": "markdown",
      "metadata": {
        "id": "eYOXDYEHnr4v",
        "colab_type": "text"
      },
      "source": [
        "# If else pyton\n",
        "Hoe to use if else in pyton\n"
      ]
    },
    {
      "cell_type": "code",
      "metadata": {
        "id": "xp8kuRiHnr_R",
        "colab_type": "code",
        "outputId": "69c15b95-4a1b-4193-aa28-4e478f56d61b",
        "colab": {
          "base_uri": "https://localhost:8080/",
          "height": 34
        }
      },
      "source": [
        "if mylist[1] > 100 :\n",
        "  print(\"pass\")"
      ],
      "execution_count": 0,
      "outputs": [
        {
          "output_type": "stream",
          "text": [
            "pass\n"
          ],
          "name": "stdout"
        }
      ]
    },
    {
      "cell_type": "code",
      "metadata": {
        "id": "s9WPMc-qoT6f",
        "colab_type": "code",
        "outputId": "40f22eb2-2fdc-4f7f-93a7-93cf4e25ecc1",
        "colab": {
          "base_uri": "https://localhost:8080/",
          "height": 34
        }
      },
      "source": [
        "if mylist[1] > 100 :\n",
        "  name = mylist[0]\n",
        "  score = mylist[1]\n",
        "  print(name +\" \"+ str(score) )"
      ],
      "execution_count": 0,
      "outputs": [
        {
          "output_type": "stream",
          "text": [
            "Napar 200\n"
          ],
          "name": "stdout"
        }
      ]
    },
    {
      "cell_type": "markdown",
      "metadata": {
        "id": "tiJMhYhcosTo",
        "colab_type": "text"
      },
      "source": [
        "Else if = elif"
      ]
    },
    {
      "cell_type": "code",
      "metadata": {
        "id": "Gxs3jP5rouuE",
        "colab_type": "code",
        "outputId": "f852f95c-6245-42fa-dff1-765ddb470317",
        "colab": {
          "base_uri": "https://localhost:8080/",
          "height": 34
        }
      },
      "source": [
        "if mylist[1] > 100 :\n",
        "  name = mylist[0]\n",
        "  score = mylist[1]\n",
        "  print(name +\" \"+ str(score) )\n",
        "elif mylist[1] > 200 :\n",
        "  print(\"pass\")\n",
        "else:\n",
        "  print(\"pass ja\")\n",
        "  "
      ],
      "execution_count": 0,
      "outputs": [
        {
          "output_type": "stream",
          "text": [
            "Napar 200\n"
          ],
          "name": "stdout"
        }
      ]
    },
    {
      "cell_type": "code",
      "metadata": {
        "id": "wwyU4l5wpXmg",
        "colab_type": "code",
        "outputId": "adf1d26f-433d-4ac0-e897-e88dee135126",
        "colab": {
          "base_uri": "https://localhost:8080/",
          "height": 34
        }
      },
      "source": [
        "score = 50\n",
        "if score > 80 :\n",
        "  print(\"A\")\n",
        "elif score > 70 :\n",
        "  print(\"B\")\n",
        "elif score > 60 : \n",
        "  print(\"C\")\n",
        "else:\n",
        "  print(\"D\")\n",
        "if score == 0:\n",
        "    print(\"F\")\n"
      ],
      "execution_count": 0,
      "outputs": [
        {
          "output_type": "stream",
          "text": [
            "D\n"
          ],
          "name": "stdout"
        }
      ]
    },
    {
      "cell_type": "markdown",
      "metadata": {
        "id": "GEi-9z_xqc3C",
        "colab_type": "text"
      },
      "source": [
        "#FOR Loop in pyton\n",
        "How to use for loop"
      ]
    },
    {
      "cell_type": "code",
      "metadata": {
        "id": "wQtcomCtqBYl",
        "colab_type": "code",
        "outputId": "609c13fe-ae47-4b7f-da52-2d3e77907f06",
        "colab": {
          "base_uri": "https://localhost:8080/",
          "height": 204
        }
      },
      "source": [
        "summ = 0\n",
        "for i in range(0,10):\n",
        "  print(str(i))\n",
        "  summ = summ+1\n",
        "print(\"result = \"+ str(summ))"
      ],
      "execution_count": 0,
      "outputs": [
        {
          "output_type": "stream",
          "text": [
            "0\n",
            "1\n",
            "2\n",
            "3\n",
            "4\n",
            "5\n",
            "6\n",
            "7\n",
            "8\n",
            "9\n",
            "result = 10\n"
          ],
          "name": "stdout"
        }
      ]
    },
    {
      "cell_type": "code",
      "metadata": {
        "id": "sPHtuZbwq6Ko",
        "colab_type": "code",
        "outputId": "0fb70051-83bd-4eec-b32b-6f7f7f8cfece",
        "colab": {
          "base_uri": "https://localhost:8080/",
          "height": 34
        }
      },
      "source": [
        "summ = []\n",
        "for i in range(0,10):\n",
        "  summ.append(i)\n",
        "sum(summ)"
      ],
      "execution_count": 0,
      "outputs": [
        {
          "output_type": "execute_result",
          "data": {
            "text/plain": [
              "45"
            ]
          },
          "metadata": {
            "tags": []
          },
          "execution_count": 22
        }
      ]
    },
    {
      "cell_type": "markdown",
      "metadata": {
        "id": "GZqD9eeurn0C",
        "colab_type": "text"
      },
      "source": [
        "i แรก เอา เข้า array \n",
        "\n",
        "loop 2 แสดงทีละตัว"
      ]
    },
    {
      "cell_type": "code",
      "metadata": {
        "id": "49OFdxO-rU74",
        "colab_type": "code",
        "outputId": "08da2334-50a5-43cf-e4fe-a7203f5e3e6d",
        "colab": {
          "base_uri": "https://localhost:8080/",
          "height": 187
        }
      },
      "source": [
        "summ = []\n",
        "for i in range(0,10):\n",
        "  summ.append(i)\n",
        "\n",
        "for i in summ:\n",
        "  print(str(i))"
      ],
      "execution_count": 24,
      "outputs": [
        {
          "output_type": "stream",
          "text": [
            "0\n",
            "1\n",
            "2\n",
            "3\n",
            "4\n",
            "5\n",
            "6\n",
            "7\n",
            "8\n",
            "9\n"
          ],
          "name": "stdout"
        }
      ]
    },
    {
      "cell_type": "markdown",
      "metadata": {
        "id": "I9s8bUahtSsp",
        "colab_type": "text"
      },
      "source": [
        "# For each Loop"
      ]
    },
    {
      "cell_type": "code",
      "metadata": {
        "id": "Z2L4bNMAriZh",
        "colab_type": "code",
        "colab": {
          "base_uri": "https://localhost:8080/",
          "height": 187
        },
        "outputId": "bb741b2d-0cbc-49ad-e54e-fa9217e9e55c"
      },
      "source": [
        "\n",
        "for i in summ:\n",
        "  print(str(i))"
      ],
      "execution_count": 26,
      "outputs": [
        {
          "output_type": "stream",
          "text": [
            "0\n",
            "1\n",
            "2\n",
            "3\n",
            "4\n",
            "5\n",
            "6\n",
            "7\n",
            "8\n",
            "9\n"
          ],
          "name": "stdout"
        }
      ]
    },
    {
      "cell_type": "markdown",
      "metadata": {
        "id": "rovX-2ADtfwp",
        "colab_type": "text"
      },
      "source": [
        "#testtest"
      ]
    },
    {
      "cell_type": "code",
      "metadata": {
        "id": "gI589Zq4tXSA",
        "colab_type": "code",
        "colab": {}
      },
      "source": [
        "a = 10 \n",
        "b = 20\n",
        "c = 30"
      ],
      "execution_count": 0,
      "outputs": []
    },
    {
      "cell_type": "markdown",
      "metadata": {
        "id": "nijmaOGjvSBw",
        "colab_type": "text"
      },
      "source": [
        "#Numpy\n",
        "###Library for matix operation"
      ]
    },
    {
      "cell_type": "code",
      "metadata": {
        "id": "-VJFbMBqtfTR",
        "colab_type": "code",
        "colab": {}
      },
      "source": [
        "import numpy as np"
      ],
      "execution_count": 0,
      "outputs": []
    },
    {
      "cell_type": "markdown",
      "metadata": {
        "id": "Tt_GEoHvwKHU",
        "colab_type": "text"
      },
      "source": [
        "###create array in numpy"
      ]
    },
    {
      "cell_type": "code",
      "metadata": {
        "id": "Ui-6P23CviC-",
        "colab_type": "code",
        "colab": {
          "base_uri": "https://localhost:8080/",
          "height": 34
        },
        "outputId": "2d12d7c2-aefc-45e9-dc5c-119c060c3e52"
      },
      "source": [
        "l = [1,2,3,4]\n",
        "np_array = np.array(1)\n",
        "type(np_array)"
      ],
      "execution_count": 28,
      "outputs": [
        {
          "output_type": "execute_result",
          "data": {
            "text/plain": [
              "numpy.ndarray"
            ]
          },
          "metadata": {
            "tags": []
          },
          "execution_count": 28
        }
      ]
    },
    {
      "cell_type": "markdown",
      "metadata": {
        "id": "rI8Rfu5gwDhT",
        "colab_type": "text"
      },
      "source": [
        "###crate matrix in array"
      ]
    },
    {
      "cell_type": "markdown",
      "metadata": {
        "id": "3KeM-Ac6wgos",
        "colab_type": "text"
      },
      "source": [
        "####เอา matix มาเก็บเป็น  array "
      ]
    },
    {
      "cell_type": "code",
      "metadata": {
        "id": "v0O75NHUv_7p",
        "colab_type": "code",
        "colab": {}
      },
      "source": [
        "np_matrix = np.array([[1,2],[3,4]])\n"
      ],
      "execution_count": 0,
      "outputs": []
    },
    {
      "cell_type": "markdown",
      "metadata": {
        "id": "_OfrtphGwvHr",
        "colab_type": "text"
      },
      "source": [
        "#### ดู Matrix"
      ]
    },
    {
      "cell_type": "code",
      "metadata": {
        "id": "iTqU7ksRwYIW",
        "colab_type": "code",
        "colab": {
          "base_uri": "https://localhost:8080/",
          "height": 51
        },
        "outputId": "411d2906-63ad-498a-eb4d-c208b6d86187"
      },
      "source": [
        "np_matrix"
      ],
      "execution_count": 36,
      "outputs": [
        {
          "output_type": "execute_result",
          "data": {
            "text/plain": [
              "array([[1, 2],\n",
              "       [3, 4]])"
            ]
          },
          "metadata": {
            "tags": []
          },
          "execution_count": 36
        }
      ]
    },
    {
      "cell_type": "markdown",
      "metadata": {
        "id": "cz4wM9CaxI57",
        "colab_type": "text"
      },
      "source": [
        "#### check size in matix"
      ]
    },
    {
      "cell_type": "code",
      "metadata": {
        "id": "TbYSHKvaw2Dh",
        "colab_type": "code",
        "colab": {
          "base_uri": "https://localhost:8080/",
          "height": 34
        },
        "outputId": "0c8454a0-2712-451e-d135-a897386e9d31"
      },
      "source": [
        "np.size(np_matrix,0)"
      ],
      "execution_count": 39,
      "outputs": [
        {
          "output_type": "execute_result",
          "data": {
            "text/plain": [
              "2"
            ]
          },
          "metadata": {
            "tags": []
          },
          "execution_count": 39
        }
      ]
    },
    {
      "cell_type": "code",
      "metadata": {
        "id": "3248lgqvxV9i",
        "colab_type": "code",
        "colab": {
          "base_uri": "https://localhost:8080/",
          "height": 34
        },
        "outputId": "0353d6fb-ede3-4d49-da63-c5273b25098e"
      },
      "source": [
        "np.size(np_matrix,1)"
      ],
      "execution_count": 41,
      "outputs": [
        {
          "output_type": "execute_result",
          "data": {
            "text/plain": [
              "2"
            ]
          },
          "metadata": {
            "tags": []
          },
          "execution_count": 41
        }
      ]
    },
    {
      "cell_type": "markdown",
      "metadata": {
        "id": "YbeSOUXwxyk0",
        "colab_type": "text"
      },
      "source": [
        "#### chack matrix properties"
      ]
    },
    {
      "cell_type": "code",
      "metadata": {
        "id": "Jqni_W_3xn4K",
        "colab_type": "code",
        "colab": {
          "base_uri": "https://localhost:8080/",
          "height": 34
        },
        "outputId": "c0c69168-6f6e-48bf-f88f-9bc85acb34c6"
      },
      "source": [
        "np_matrix.shape"
      ],
      "execution_count": 42,
      "outputs": [
        {
          "output_type": "execute_result",
          "data": {
            "text/plain": [
              "(2, 2)"
            ]
          },
          "metadata": {
            "tags": []
          },
          "execution_count": 42
        }
      ]
    },
    {
      "cell_type": "markdown",
      "metadata": {
        "id": "A9GcQgPdyDzz",
        "colab_type": "text"
      },
      "source": [
        "จำนวน dimention "
      ]
    },
    {
      "cell_type": "code",
      "metadata": {
        "id": "ryG-Qhjzx5tn",
        "colab_type": "code",
        "colab": {
          "base_uri": "https://localhost:8080/",
          "height": 34
        },
        "outputId": "bbc76819-f1c1-4f95-d2b2-77dca7e76d93"
      },
      "source": [
        "np_matrix.ndim"
      ],
      "execution_count": 43,
      "outputs": [
        {
          "output_type": "execute_result",
          "data": {
            "text/plain": [
              "2"
            ]
          },
          "metadata": {
            "tags": []
          },
          "execution_count": 43
        }
      ]
    },
    {
      "cell_type": "code",
      "metadata": {
        "id": "ud7CEV-sx-qx",
        "colab_type": "code",
        "colab": {
          "base_uri": "https://localhost:8080/",
          "height": 34
        },
        "outputId": "408aacd5-9107-4d4b-c3f5-0962ac0b9e59"
      },
      "source": [
        "np_matrix.size"
      ],
      "execution_count": 44,
      "outputs": [
        {
          "output_type": "execute_result",
          "data": {
            "text/plain": [
              "4"
            ]
          },
          "metadata": {
            "tags": []
          },
          "execution_count": 44
        }
      ]
    },
    {
      "cell_type": "markdown",
      "metadata": {
        "id": "z-FLiY75yRdd",
        "colab_type": "text"
      },
      "source": [
        "#### create matrix mix data type"
      ]
    },
    {
      "cell_type": "code",
      "metadata": {
        "id": "5T4Pt6QMyBrx",
        "colab_type": "code",
        "colab": {}
      },
      "source": [
        "np_mix_matrix = np.array([['one',2],['three',4]])"
      ],
      "execution_count": 0,
      "outputs": []
    },
    {
      "cell_type": "code",
      "metadata": {
        "id": "MmNdtZKjylb_",
        "colab_type": "code",
        "colab": {
          "base_uri": "https://localhost:8080/",
          "height": 51
        },
        "outputId": "05147ea2-21d0-4b06-d75e-e23ee8163c0e"
      },
      "source": [
        "np_mix_matrix"
      ],
      "execution_count": 46,
      "outputs": [
        {
          "output_type": "execute_result",
          "data": {
            "text/plain": [
              "array([['one', '2'],\n",
              "       ['three', '4']], dtype='<U5')"
            ]
          },
          "metadata": {
            "tags": []
          },
          "execution_count": 46
        }
      ]
    },
    {
      "cell_type": "markdown",
      "metadata": {
        "id": "7Z84NuKgyrXc",
        "colab_type": "text"
      },
      "source": [
        "#### access matrix element"
      ]
    },
    {
      "cell_type": "markdown",
      "metadata": {
        "id": "MkbOXjqTzSCY",
        "colab_type": "text"
      },
      "source": [
        "##### ดู มิติ"
      ]
    },
    {
      "cell_type": "code",
      "metadata": {
        "id": "P_uTobX2yzbi",
        "colab_type": "code",
        "colab": {
          "base_uri": "https://localhost:8080/",
          "height": 34
        },
        "outputId": "76edad56-cba0-40fd-86b4-43d96963f2fe"
      },
      "source": [
        "np_mix_matrix[0,1]"
      ],
      "execution_count": 53,
      "outputs": [
        {
          "output_type": "execute_result",
          "data": {
            "text/plain": [
              "'2'"
            ]
          },
          "metadata": {
            "tags": []
          },
          "execution_count": 53
        }
      ]
    },
    {
      "cell_type": "markdown",
      "metadata": {
        "id": "e8cbpxj5zJIb",
        "colab_type": "text"
      },
      "source": [
        "##### ดู ตาม column นั้นๆ column ที่ 0"
      ]
    },
    {
      "cell_type": "code",
      "metadata": {
        "id": "KFNpprSAyobq",
        "colab_type": "code",
        "colab": {
          "base_uri": "https://localhost:8080/",
          "height": 34
        },
        "outputId": "b25e7da4-0acb-4e43-9d68-518d6f03d609"
      },
      "source": [
        "np_mix_matrix[:,0]"
      ],
      "execution_count": 52,
      "outputs": [
        {
          "output_type": "execute_result",
          "data": {
            "text/plain": [
              "array(['one', 'three'], dtype='<U5')"
            ]
          },
          "metadata": {
            "tags": []
          },
          "execution_count": 52
        }
      ]
    },
    {
      "cell_type": "markdown",
      "metadata": {
        "id": "nJq9jT_f0NKt",
        "colab_type": "text"
      },
      "source": [
        "##### column ที่ 1 "
      ]
    },
    {
      "cell_type": "code",
      "metadata": {
        "id": "koCTpIdk0PCE",
        "colab_type": "code",
        "colab": {
          "base_uri": "https://localhost:8080/",
          "height": 34
        },
        "outputId": "487c9439-5efd-471b-f897-5c3353c9cc82"
      },
      "source": [
        "np_mix_matrix[:,1]"
      ],
      "execution_count": 56,
      "outputs": [
        {
          "output_type": "execute_result",
          "data": {
            "text/plain": [
              "array(['2', '4'], dtype='<U5')"
            ]
          },
          "metadata": {
            "tags": []
          },
          "execution_count": 56
        }
      ]
    },
    {
      "cell_type": "markdown",
      "metadata": {
        "id": "RfKUXmd0zYdM",
        "colab_type": "text"
      },
      "source": [
        "##### ดู ตาม แถวนั้นๆ แถวที่ 0 "
      ]
    },
    {
      "cell_type": "code",
      "metadata": {
        "id": "m9ZPERSLzbNq",
        "colab_type": "code",
        "colab": {
          "base_uri": "https://localhost:8080/",
          "height": 34
        },
        "outputId": "07aea605-1431-4cec-a5e5-ef7ac441c1ec"
      },
      "source": [
        "np_mix_matrix[0,]"
      ],
      "execution_count": 54,
      "outputs": [
        {
          "output_type": "execute_result",
          "data": {
            "text/plain": [
              "array(['one', '2'], dtype='<U5')"
            ]
          },
          "metadata": {
            "tags": []
          },
          "execution_count": 54
        }
      ]
    },
    {
      "cell_type": "markdown",
      "metadata": {
        "id": "5GcBI7XQzn9O",
        "colab_type": "text"
      },
      "source": [
        "##### ดู ตาม แถวนั้นๆ แถวที่ 1"
      ]
    },
    {
      "cell_type": "code",
      "metadata": {
        "id": "hQ57wrpFzgra",
        "colab_type": "code",
        "colab": {
          "base_uri": "https://localhost:8080/",
          "height": 34
        },
        "outputId": "643f9cf5-218f-45d6-ea80-0546549f6958"
      },
      "source": [
        "np_mix_matrix[1,]"
      ],
      "execution_count": 55,
      "outputs": [
        {
          "output_type": "execute_result",
          "data": {
            "text/plain": [
              "array(['three', '4'], dtype='<U5')"
            ]
          },
          "metadata": {
            "tags": []
          },
          "execution_count": 55
        }
      ]
    },
    {
      "cell_type": "markdown",
      "metadata": {
        "id": "GIjV_Dktz53H",
        "colab_type": "text"
      },
      "source": [
        "# access data and type casting"
      ]
    },
    {
      "cell_type": "markdown",
      "metadata": {
        "id": "FF3PcJUU0EEs",
        "colab_type": "text"
      },
      "source": [
        "matrix ซ้อน ยังไม่มี type"
      ]
    },
    {
      "cell_type": "code",
      "metadata": {
        "id": "5zuJHS8yzrRj",
        "colab_type": "code",
        "colab": {
          "base_uri": "https://localhost:8080/",
          "height": 51
        },
        "outputId": "7c4e9730-dafe-42c2-ef59-5cfca81c1021"
      },
      "source": [
        "np_mix_matrix[0:2,]"
      ],
      "execution_count": 57,
      "outputs": [
        {
          "output_type": "execute_result",
          "data": {
            "text/plain": [
              "array([['one', '2'],\n",
              "       ['three', '4']], dtype='<U5')"
            ]
          },
          "metadata": {
            "tags": []
          },
          "execution_count": 57
        }
      ]
    },
    {
      "cell_type": "markdown",
      "metadata": {
        "id": "GAAHqE8005S-",
        "colab_type": "text"
      },
      "source": [
        "matrix มี type"
      ]
    },
    {
      "cell_type": "code",
      "metadata": {
        "id": "24ZRcquB0h13",
        "colab_type": "code",
        "colab": {
          "base_uri": "https://localhost:8080/",
          "height": 34
        },
        "outputId": "f354c709-007e-4bad-e356-5f431fde3ad8"
      },
      "source": [
        "np.array(np_mix_matrix[:,1], dtype = int)"
      ],
      "execution_count": 58,
      "outputs": [
        {
          "output_type": "execute_result",
          "data": {
            "text/plain": [
              "array([2, 4])"
            ]
          },
          "metadata": {
            "tags": []
          },
          "execution_count": 58
        }
      ]
    },
    {
      "cell_type": "markdown",
      "metadata": {
        "id": "awZBFKOh1DJ9",
        "colab_type": "text"
      },
      "source": [
        "# Create matrix 0/1\n"
      ]
    },
    {
      "cell_type": "markdown",
      "metadata": {
        "id": "taVSP2M21Sbu",
        "colab_type": "text"
      },
      "source": [
        "สร้าง 0 "
      ]
    },
    {
      "cell_type": "code",
      "metadata": {
        "id": "s6tUjmRF02Ab",
        "colab_type": "code",
        "colab": {
          "base_uri": "https://localhost:8080/",
          "height": 51
        },
        "outputId": "b6bbcb77-9f18-4b13-8e0e-43dcfaec1f54"
      },
      "source": [
        "np.zeros([2,3])"
      ],
      "execution_count": 59,
      "outputs": [
        {
          "output_type": "execute_result",
          "data": {
            "text/plain": [
              "array([[0., 0., 0.],\n",
              "       [0., 0., 0.]])"
            ]
          },
          "metadata": {
            "tags": []
          },
          "execution_count": 59
        }
      ]
    },
    {
      "cell_type": "markdown",
      "metadata": {
        "id": "G6RqMO2a1U31",
        "colab_type": "text"
      },
      "source": [
        "สร้าง 1 "
      ]
    },
    {
      "cell_type": "code",
      "metadata": {
        "id": "6CSmDNuz1QdA",
        "colab_type": "code",
        "colab": {
          "base_uri": "https://localhost:8080/",
          "height": 102
        },
        "outputId": "589ba727-2fdf-41c8-9af4-a73b67daf9b6"
      },
      "source": [
        "np.ones([5,5])"
      ],
      "execution_count": 60,
      "outputs": [
        {
          "output_type": "execute_result",
          "data": {
            "text/plain": [
              "array([[1., 1., 1., 1., 1.],\n",
              "       [1., 1., 1., 1., 1.],\n",
              "       [1., 1., 1., 1., 1.],\n",
              "       [1., 1., 1., 1., 1.],\n",
              "       [1., 1., 1., 1., 1.]])"
            ]
          },
          "metadata": {
            "tags": []
          },
          "execution_count": 60
        }
      ]
    },
    {
      "cell_type": "markdown",
      "metadata": {
        "id": "RjJ43ED-1fE9",
        "colab_type": "text"
      },
      "source": [
        "# general matrix and empty matrix"
      ]
    },
    {
      "cell_type": "code",
      "metadata": {
        "id": "HmgymDLu1aCL",
        "colab_type": "code",
        "colab": {
          "base_uri": "https://localhost:8080/",
          "height": 102
        },
        "outputId": "3e0fc726-5604-4fa2-d1c6-2d08cb78420d"
      },
      "source": [
        "np.eye(5)"
      ],
      "execution_count": 61,
      "outputs": [
        {
          "output_type": "execute_result",
          "data": {
            "text/plain": [
              "array([[1., 0., 0., 0., 0.],\n",
              "       [0., 1., 0., 0., 0.],\n",
              "       [0., 0., 1., 0., 0.],\n",
              "       [0., 0., 0., 1., 0.],\n",
              "       [0., 0., 0., 0., 1.]])"
            ]
          },
          "metadata": {
            "tags": []
          },
          "execution_count": 61
        }
      ]
    },
    {
      "cell_type": "markdown",
      "metadata": {
        "id": "OcmgSlhJ1nVX",
        "colab_type": "text"
      },
      "source": [
        "empty matrix\n",
        "\n",
        "ไป ครีเอท ขยะ ใน เมโมรี่ วุ่มสร้างมาจากใน matrix"
      ]
    },
    {
      "cell_type": "code",
      "metadata": {
        "id": "TJsAQGg31lGT",
        "colab_type": "code",
        "colab": {
          "base_uri": "https://localhost:8080/",
          "height": 187
        },
        "outputId": "2f4d0117-ba60-498a-836f-ca052c0a9db6"
      },
      "source": [
        "np.empty([5,4])"
      ],
      "execution_count": 78,
      "outputs": [
        {
          "output_type": "execute_result",
          "data": {
            "text/plain": [
              "array([[1.45349370e-316, 5.38531554e-322, 0.00000000e+000,\n",
              "        0.00000000e+000],\n",
              "       [0.00000000e+000, 1.16095484e-028, 3.68423986e+180,\n",
              "        5.56218858e+180],\n",
              "       [1.54722523e+262, 7.48952651e+247, 8.76739466e+252,\n",
              "        8.89489936e+252],\n",
              "       [1.17149199e+214, 1.14428494e+243, 1.35617218e+248,\n",
              "        2.78225511e+296],\n",
              "       [7.67127212e+151, 2.77620488e+184, 6.97848631e+252,\n",
              "        2.65682131e-312]])"
            ]
          },
          "metadata": {
            "tags": []
          },
          "execution_count": 78
        }
      ]
    },
    {
      "cell_type": "markdown",
      "metadata": {
        "id": "2YWp6rRD2T-X",
        "colab_type": "text"
      },
      "source": [
        "# ramdon matrix\n"
      ]
    },
    {
      "cell_type": "code",
      "metadata": {
        "id": "soyzKnIS1sFb",
        "colab_type": "code",
        "colab": {
          "base_uri": "https://localhost:8080/",
          "height": 102
        },
        "outputId": "9d8fdb96-552a-4540-ec66-d909ed026144"
      },
      "source": [
        "np.random.rand(5,5)"
      ],
      "execution_count": 76,
      "outputs": [
        {
          "output_type": "execute_result",
          "data": {
            "text/plain": [
              "array([[0.04452459, 0.11164346, 0.10394615, 0.91511173, 0.24936576],\n",
              "       [0.90868876, 0.99564842, 0.35693042, 0.73093078, 0.88236108],\n",
              "       [0.92825031, 0.97424316, 0.88984674, 0.98331616, 0.71122382],\n",
              "       [0.63884486, 0.04262743, 0.99666547, 0.16125033, 0.20930688],\n",
              "       [0.04020372, 0.70602329, 0.98841769, 0.61245833, 0.03748623]])"
            ]
          },
          "metadata": {
            "tags": []
          },
          "execution_count": 76
        }
      ]
    },
    {
      "cell_type": "code",
      "metadata": {
        "id": "PtHk6Grm2e1g",
        "colab_type": "code",
        "colab": {
          "base_uri": "https://localhost:8080/",
          "height": 68
        },
        "outputId": "2c7eb8f2-3ce1-456a-db80-c0e9436e7305"
      },
      "source": [
        "np.random.randint(5,size = (3,3))"
      ],
      "execution_count": 79,
      "outputs": [
        {
          "output_type": "execute_result",
          "data": {
            "text/plain": [
              "array([[1, 0, 3],\n",
              "       [0, 4, 1],\n",
              "       [4, 4, 3]])"
            ]
          },
          "metadata": {
            "tags": []
          },
          "execution_count": 79
        }
      ]
    },
    {
      "cell_type": "markdown",
      "metadata": {
        "id": "vQ1TXV2r23YX",
        "colab_type": "text"
      },
      "source": [
        "# random vs normal"
      ]
    },
    {
      "cell_type": "code",
      "metadata": {
        "id": "5vOd033e2zej",
        "colab_type": "code",
        "colab": {
          "base_uri": "https://localhost:8080/",
          "height": 214
        },
        "outputId": "203a48df-b596-4a50-b128-df37ea3a81b2"
      },
      "source": [
        "import matplotlib.pyplot as plt\n",
        "fig, axes = plt.subplots(1,2,figsize = (8,3))\n",
        "axes[0].hist(np.random.rand(1000))\n",
        "axes[1].hist(np.random.randn(1000))\n",
        "plt.show()"
      ],
      "execution_count": 80,
      "outputs": [
        {
          "output_type": "display_data",
          "data": {
            "image/png": "[encoded data removed]",
            "text/plain": [
              "<Figure size 576x216 with 2 Axes>"
            ]
          },
          "metadata": {
            "tags": []
          }
        }
      ]
    },
    {
      "cell_type": "markdown",
      "metadata": {
        "id": "m9EuLoJr3aO2",
        "colab_type": "text"
      },
      "source": [
        "# sampling data"
      ]
    },
    {
      "cell_type": "code",
      "metadata": {
        "id": "Z_fl4wGy4J9c",
        "colab_type": "code",
        "colab": {
          "base_uri": "https://localhost:8080/",
          "height": 68
        },
        "outputId": "8cf20269-d239-4c93-c925-d3ea4461acba"
      },
      "source": [
        "np.random.randint(1,size = (3,3))"
      ],
      "execution_count": 98,
      "outputs": [
        {
          "output_type": "execute_result",
          "data": {
            "text/plain": [
              "array([[0, 0, 0],\n",
              "       [0, 0, 0],\n",
              "       [0, 0, 0]])"
            ]
          },
          "metadata": {
            "tags": []
          },
          "execution_count": 98
        }
      ]
    },
    {
      "cell_type": "code",
      "metadata": {
        "id": "O3wCo5Eb5Mzs",
        "colab_type": "code",
        "colab": {
          "base_uri": "https://localhost:8080/",
          "height": 34
        },
        "outputId": "89f8fcaa-0c0a-4063-c5ed-ae0c24cad93f"
      },
      "source": [
        "np.random.choice(5,3,replace = False)"
      ],
      "execution_count": 106,
      "outputs": [
        {
          "output_type": "execute_result",
          "data": {
            "text/plain": [
              "array([2, 1, 4])"
            ]
          },
          "metadata": {
            "tags": []
          },
          "execution_count": 106
        }
      ]
    },
    {
      "cell_type": "code",
      "metadata": {
        "id": "n9ohVCRj3YS0",
        "colab_type": "code",
        "colab": {}
      },
      "source": [
        ""
      ],
      "execution_count": 0,
      "outputs": []
    },
    {
      "cell_type": "markdown",
      "metadata": {
        "id": "yTUhPIeh3ggu",
        "colab_type": "text"
      },
      "source": [
        "# EX 1 "
      ]
    },
    {
      "cell_type": "code",
      "metadata": {
        "id": "jXA-FWcx9Jda",
        "colab_type": "code",
        "colab": {
          "base_uri": "https://localhost:8080/",
          "height": 187
        },
        "outputId": "23870886-073d-46b0-c7c6-90b96c556a4e"
      },
      "source": [
        "\n",
        "a = np.random.rand(10,5)\n",
        "a[:,4] = np.random.randint(2,size = 10)\n",
        "a"
      ],
      "execution_count": 160,
      "outputs": [
        {
          "output_type": "execute_result",
          "data": {
            "text/plain": [
              "array([[0.46800932, 0.52335567, 0.88944267, 0.23933536, 1.        ],\n",
              "       [0.86708831, 0.49468013, 0.53524174, 0.02455021, 0.        ],\n",
              "       [0.6770977 , 0.20768131, 0.38283646, 0.99345595, 0.        ],\n",
              "       [0.50418533, 0.6497284 , 0.30820233, 0.9141194 , 1.        ],\n",
              "       [0.64703771, 0.89545464, 0.75732104, 0.5482188 , 0.        ],\n",
              "       [0.89446255, 0.10345143, 0.50277785, 0.52643538, 0.        ],\n",
              "       [0.10872292, 0.35858926, 0.80547017, 0.38450328, 0.        ],\n",
              "       [0.63778976, 0.70554187, 0.02408997, 0.97535423, 1.        ],\n",
              "       [0.47671989, 0.61038769, 0.41430066, 0.92722159, 0.        ],\n",
              "       [0.98145269, 0.60220795, 0.6886338 , 0.14301571, 0.        ]])"
            ]
          },
          "metadata": {
            "tags": []
          },
          "execution_count": 160
        }
      ]
    },
    {
      "cell_type": "markdown",
      "metadata": {
        "id": "0-lSAknoBYGK",
        "colab_type": "text"
      },
      "source": [
        "# EX 2 \n"
      ]
    },
    {
      "cell_type": "markdown",
      "metadata": {
        "id": "n92muGY8Bc6R",
        "colab_type": "text"
      },
      "source": [
        ""
      ]
    },
    {
      "cell_type": "code",
      "metadata": {
        "id": "vdHnOw85_maP",
        "colab_type": "code",
        "colab": {
          "base_uri": "https://localhost:8080/",
          "height": 187
        },
        "outputId": "a2120e06-d17d-4ef4-bb2b-b46df5bd8ee6"
      },
      "source": [
        "b = np.random.rand(10,5)\n",
        "b"
      ],
      "execution_count": 215,
      "outputs": [
        {
          "output_type": "execute_result",
          "data": {
            "text/plain": [
              "array([[0.47614201, 0.92706274, 0.4154031 , 0.96598667, 0.9239709 ],\n",
              "       [0.3902903 , 0.17785862, 0.86738435, 0.91198858, 0.41471011],\n",
              "       [0.13354266, 0.99482264, 0.37202022, 0.27804685, 0.46053407],\n",
              "       [0.38303385, 0.33406023, 0.14768676, 0.3088711 , 0.4950215 ],\n",
              "       [0.10565126, 0.11755614, 0.79325083, 0.30629018, 0.38923584],\n",
              "       [0.32967427, 0.56606723, 0.89178866, 0.76029698, 0.29133846],\n",
              "       [0.4413032 , 0.22990347, 0.20517205, 0.20229522, 0.53600849],\n",
              "       [0.81896824, 0.07935354, 0.20715006, 0.9109767 , 0.35632544],\n",
              "       [0.87149317, 0.55306101, 0.90817586, 0.23527165, 0.77817697],\n",
              "       [0.19639135, 0.23480044, 0.84758781, 0.31896408, 0.6675621 ]])"
            ]
          },
          "metadata": {
            "tags": []
          },
          "execution_count": 215
        }
      ]
    },
    {
      "cell_type": "code",
      "metadata": {
        "id": "vdWTeRwfBgZf",
        "colab_type": "code",
        "colab": {
          "base_uri": "https://localhost:8080/",
          "height": 34
        },
        "outputId": "bd688642-6ae6-4932-82d5-71d20ad09291"
      },
      "source": [
        "c = np.random.randint(3,size = 10)\n",
        "c"
      ],
      "execution_count": 216,
      "outputs": [
        {
          "output_type": "execute_result",
          "data": {
            "text/plain": [
              "array([1, 1, 2, 0, 2, 1, 1, 0, 2, 2])"
            ]
          },
          "metadata": {
            "tags": []
          },
          "execution_count": 216
        }
      ]
    },
    {
      "cell_type": "code",
      "metadata": {
        "id": "fbYN0nRGBv8P",
        "colab_type": "code",
        "colab": {
          "base_uri": "https://localhost:8080/",
          "height": 34
        },
        "outputId": "e7223480-05ae-4617-8bfd-ca4f7f8433bc"
      },
      "source": [
        "d = np.where(c == 2)\n",
        "d \n",
        "\n"
      ],
      "execution_count": 217,
      "outputs": [
        {
          "output_type": "execute_result",
          "data": {
            "text/plain": [
              "(array([2, 4, 8, 9]),)"
            ]
          },
          "metadata": {
            "tags": []
          },
          "execution_count": 217
        }
      ]
    },
    {
      "cell_type": "code",
      "metadata": {
        "id": "PGd-1Jy7Dxbt",
        "colab_type": "code",
        "colab": {
          "base_uri": "https://localhost:8080/",
          "height": 85
        },
        "outputId": "d9668463-a5ff-4244-934b-81a3f179f8c6"
      },
      "source": [
        "e = b[d]\n",
        "e"
      ],
      "execution_count": 219,
      "outputs": [
        {
          "output_type": "execute_result",
          "data": {
            "text/plain": [
              "array([[0.13354266, 0.99482264, 0.37202022, 0.27804685, 0.46053407],\n",
              "       [0.10565126, 0.11755614, 0.79325083, 0.30629018, 0.38923584],\n",
              "       [0.87149317, 0.55306101, 0.90817586, 0.23527165, 0.77817697],\n",
              "       [0.19639135, 0.23480044, 0.84758781, 0.31896408, 0.6675621 ]])"
            ]
          },
          "metadata": {
            "tags": []
          },
          "execution_count": 219
        }
      ]
    },
    {
      "cell_type": "code",
      "metadata": {
        "id": "32m9i6vRIxa2",
        "colab_type": "code",
        "colab": {}
      },
      "source": [
        ""
      ],
      "execution_count": 0,
      "outputs": []
    }
  ]
}