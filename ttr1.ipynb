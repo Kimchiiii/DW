{
  "nbformat": 4,
  "nbformat_minor": 0,
  "metadata": {
    "colab": {
      "name": "ttr1.ipynb",
      "provenance": [],
      "collapsed_sections": [],
      "include_colab_link": true
    },
    "kernelspec": {
      "name": "python3",
      "display_name": "Python 3"
    }
  },
  "cells": [
    {
      "cell_type": "markdown",
      "metadata": {
        "id": "view-in-github",
        "colab_type": "text"
      },
      "source": [
        "<a href=\"https://colab.research.google.com/github/Kimchiiii/DW/blob/master/ttr1.ipynb\" target=\"_parent\"><img src=\"https://colab.research.google.com/assets/colab-badge.svg\" alt=\"Open In Colab\"/></a>"
      ]
    },
    {
      "cell_type": "markdown",
      "metadata": {
        "id": "bePLEfY9iQZu",
        "colab_type": "text"
      },
      "source": [
        "# Hello pyton \n",
        "## hello pyton\n",
        "### hello pyton\n",
        "#### hello pyton\n",
        "##### hello pyton\n",
        "###### hello pyton\n",
        "\n"
      ]
    },
    {
      "cell_type": "code",
      "metadata": {
        "id": "Y5S1GF2-iNv6",
        "colab_type": "code",
        "outputId": "79a60a9b-51b0-45e3-fa55-d07d941cfad7",
        "colab": {
          "base_uri": "https://localhost:8080/",
          "height": 34
        }
      },
      "source": [
        "print(\"hello world\")"
      ],
      "execution_count": 0,
      "outputs": [
        {
          "output_type": "stream",
          "text": [
            "hello world\n"
          ],
          "name": "stdout"
        }
      ]
    },
    {
      "cell_type": "markdown",
      "metadata": {
        "id": "DrV5uQ9ejMUv",
        "colab_type": "text"
      },
      "source": [
        "#declare varible\n",
        "How to declare varible in pyton"
      ]
    },
    {
      "cell_type": "code",
      "metadata": {
        "id": "zP09iictjOEe",
        "colab_type": "code",
        "outputId": "8df8552d-7940-49e8-dbf4-adb70fd56489",
        "colab": {
          "base_uri": "https://localhost:8080/",
          "height": 34
        }
      },
      "source": [
        "score = 100\n",
        "name = \"Napar\"\n",
        "print(\" name is \" + name +  \" score is \" + str(score))\n"
      ],
      "execution_count": 0,
      "outputs": [
        {
          "output_type": "stream",
          "text": [
            " name is Napar score is 100\n"
          ],
          "name": "stdout"
        }
      ]
    },
    {
      "cell_type": "code",
      "metadata": {
        "id": "wzJxizR2kFZm",
        "colab_type": "code",
        "outputId": "ef2ca2db-cbc7-4368-dd54-ad88be006a54",
        "colab": {
          "base_uri": "https://localhost:8080/",
          "height": 34
        }
      },
      "source": [
        "a = 2\n",
        "b = 3\n",
        "c = a * b\n",
        "print(c)"
      ],
      "execution_count": 0,
      "outputs": [
        {
          "output_type": "stream",
          "text": [
            "6\n"
          ],
          "name": "stdout"
        }
      ]
    },
    {
      "cell_type": "markdown",
      "metadata": {
        "id": "LdpPI5ZEnxv5",
        "colab_type": "text"
      },
      "source": [
        "#LIST"
      ]
    },
    {
      "cell_type": "markdown",
      "metadata": {
        "id": "8dOjo7iOmx7w",
        "colab_type": "text"
      },
      "source": [
        "## How to use List in pyton\n"
      ]
    },
    {
      "cell_type": "code",
      "metadata": {
        "id": "KkRZWVOkkjhu",
        "colab_type": "code",
        "outputId": "66a65a84-823b-40bc-a0b2-1ba328466b38",
        "colab": {
          "base_uri": "https://localhost:8080/",
          "height": 34
        }
      },
      "source": [
        "mylist = []\n",
        "mylist.append(\"Napar\")\n",
        "mylist.append(200)\n",
        "mylist\n"
      ],
      "execution_count": 0,
      "outputs": [
        {
          "output_type": "execute_result",
          "data": {
            "text/plain": [
              "['Napar', 200]"
            ]
          },
          "metadata": {
            "tags": []
          },
          "execution_count": 6
        }
      ]
    },
    {
      "cell_type": "markdown",
      "metadata": {
        "id": "k8qt2HK9nJEZ",
        "colab_type": "text"
      },
      "source": [
        "## How to count List"
      ]
    },
    {
      "cell_type": "code",
      "metadata": {
        "id": "FzbvdScYnJLR",
        "colab_type": "code",
        "outputId": "b0832f91-b0f6-4426-a04a-0f7bb0e5f657",
        "colab": {
          "base_uri": "https://localhost:8080/",
          "height": 34
        }
      },
      "source": [
        "len(mylist)"
      ],
      "execution_count": 0,
      "outputs": [
        {
          "output_type": "execute_result",
          "data": {
            "text/plain": [
              "2"
            ]
          },
          "metadata": {
            "tags": []
          },
          "execution_count": 7
        }
      ]
    },
    {
      "cell_type": "markdown",
      "metadata": {
        "id": "eYOXDYEHnr4v",
        "colab_type": "text"
      },
      "source": [
        "# If else pyton\n",
        "Hoe to use if else in pyton\n"
      ]
    },
    {
      "cell_type": "code",
      "metadata": {
        "id": "xp8kuRiHnr_R",
        "colab_type": "code",
        "outputId": "69c15b95-4a1b-4193-aa28-4e478f56d61b",
        "colab": {
          "base_uri": "https://localhost:8080/",
          "height": 34
        }
      },
      "source": [
        "if mylist[1] > 100 :\n",
        "  print(\"pass\")"
      ],
      "execution_count": 0,
      "outputs": [
        {
          "output_type": "stream",
          "text": [
            "pass\n"
          ],
          "name": "stdout"
        }
      ]
    },
    {
      "cell_type": "code",
      "metadata": {
        "id": "s9WPMc-qoT6f",
        "colab_type": "code",
        "outputId": "40f22eb2-2fdc-4f7f-93a7-93cf4e25ecc1",
        "colab": {
          "base_uri": "https://localhost:8080/",
          "height": 34
        }
      },
      "source": [
        "if mylist[1] > 100 :\n",
        "  name = mylist[0]\n",
        "  score = mylist[1]\n",
        "  print(name +\" \"+ str(score) )"
      ],
      "execution_count": 0,
      "outputs": [
        {
          "output_type": "stream",
          "text": [
            "Napar 200\n"
          ],
          "name": "stdout"
        }
      ]
    },
    {
      "cell_type": "markdown",
      "metadata": {
        "id": "tiJMhYhcosTo",
        "colab_type": "text"
      },
      "source": [
        "Else if = elif"
      ]
    },
    {
      "cell_type": "code",
      "metadata": {
        "id": "Gxs3jP5rouuE",
        "colab_type": "code",
        "outputId": "f852f95c-6245-42fa-dff1-765ddb470317",
        "colab": {
          "base_uri": "https://localhost:8080/",
          "height": 34
        }
      },
      "source": [
        "if mylist[1] > 100 :\n",
        "  name = mylist[0]\n",
        "  score = mylist[1]\n",
        "  print(name +\" \"+ str(score) )\n",
        "elif mylist[1] > 200 :\n",
        "  print(\"pass\")\n",
        "else:\n",
        "  print(\"pass ja\")\n",
        "  "
      ],
      "execution_count": 0,
      "outputs": [
        {
          "output_type": "stream",
          "text": [
            "Napar 200\n"
          ],
          "name": "stdout"
        }
      ]
    },
    {
      "cell_type": "code",
      "metadata": {
        "id": "wwyU4l5wpXmg",
        "colab_type": "code",
        "outputId": "adf1d26f-433d-4ac0-e897-e88dee135126",
        "colab": {
          "base_uri": "https://localhost:8080/",
          "height": 34
        }
      },
      "source": [
        "score = 50\n",
        "if score > 80 :\n",
        "  print(\"A\")\n",
        "elif score > 70 :\n",
        "  print(\"B\")\n",
        "elif score > 60 : \n",
        "  print(\"C\")\n",
        "else:\n",
        "  print(\"D\")\n",
        "if score == 0:\n",
        "    print(\"F\")\n"
      ],
      "execution_count": 0,
      "outputs": [
        {
          "output_type": "stream",
          "text": [
            "D\n"
          ],
          "name": "stdout"
        }
      ]
    },
    {
      "cell_type": "markdown",
      "metadata": {
        "id": "GEi-9z_xqc3C",
        "colab_type": "text"
      },
      "source": [
        "#FOR Loop in pyton\n",
        "How to use for loop"
      ]
    },
    {
      "cell_type": "code",
      "metadata": {
        "id": "wQtcomCtqBYl",
        "colab_type": "code",
        "outputId": "609c13fe-ae47-4b7f-da52-2d3e77907f06",
        "colab": {
          "base_uri": "https://localhost:8080/",
          "height": 204
        }
      },
      "source": [
        "summ = 0\n",
        "for i in range(0,10):\n",
        "  print(str(i))\n",
        "  summ = summ+1\n",
        "print(\"result = \"+ str(summ))"
      ],
      "execution_count": 0,
      "outputs": [
        {
          "output_type": "stream",
          "text": [
            "0\n",
            "1\n",
            "2\n",
            "3\n",
            "4\n",
            "5\n",
            "6\n",
            "7\n",
            "8\n",
            "9\n",
            "result = 10\n"
          ],
          "name": "stdout"
        }
      ]
    },
    {
      "cell_type": "code",
      "metadata": {
        "id": "sPHtuZbwq6Ko",
        "colab_type": "code",
        "outputId": "0fb70051-83bd-4eec-b32b-6f7f7f8cfece",
        "colab": {
          "base_uri": "https://localhost:8080/",
          "height": 34
        }
      },
      "source": [
        "summ = []\n",
        "for i in range(0,10):\n",
        "  summ.append(i)\n",
        "sum(summ)"
      ],
      "execution_count": 0,
      "outputs": [
        {
          "output_type": "execute_result",
          "data": {
            "text/plain": [
              "45"
            ]
          },
          "metadata": {
            "tags": []
          },
          "execution_count": 22
        }
      ]
    },
    {
      "cell_type": "markdown",
      "metadata": {
        "id": "GZqD9eeurn0C",
        "colab_type": "text"
      },
      "source": [
        "i แรก เอา เข้า array \n",
        "\n",
        "loop 2 แสดงทีละตัว"
      ]
    },
    {
      "cell_type": "code",
      "metadata": {
        "id": "49OFdxO-rU74",
        "colab_type": "code",
        "outputId": "08da2334-50a5-43cf-e4fe-a7203f5e3e6d",
        "colab": {
          "base_uri": "https://localhost:8080/",
          "height": 187
        }
      },
      "source": [
        "summ = []\n",
        "for i in range(0,10):\n",
        "  summ.append(i)\n",
        "\n",
        "for i in summ:\n",
        "  print(str(i))"
      ],
      "execution_count": 24,
      "outputs": [
        {
          "output_type": "stream",
          "text": [
            "0\n",
            "1\n",
            "2\n",
            "3\n",
            "4\n",
            "5\n",
            "6\n",
            "7\n",
            "8\n",
            "9\n"
          ],
          "name": "stdout"
        }
      ]
    },
    {
      "cell_type": "markdown",
      "metadata": {
        "id": "I9s8bUahtSsp",
        "colab_type": "text"
      },
      "source": [
        "# For each Loop"
      ]
    },
    {
      "cell_type": "code",
      "metadata": {
        "id": "Z2L4bNMAriZh",
        "colab_type": "code",
        "colab": {
          "base_uri": "https://localhost:8080/",
          "height": 187
        },
        "outputId": "bb741b2d-0cbc-49ad-e54e-fa9217e9e55c"
      },
      "source": [
        "\n",
        "for i in summ:\n",
        "  print(str(i))"
      ],
      "execution_count": 26,
      "outputs": [
        {
          "output_type": "stream",
          "text": [
            "0\n",
            "1\n",
            "2\n",
            "3\n",
            "4\n",
            "5\n",
            "6\n",
            "7\n",
            "8\n",
            "9\n"
          ],
          "name": "stdout"
        }
      ]
    },
    {
      "cell_type": "markdown",
      "metadata": {
        "id": "rovX-2ADtfwp",
        "colab_type": "text"
      },
      "source": [
        "#testtest"
      ]
    },
    {
      "cell_type": "code",
      "metadata": {
        "id": "gI589Zq4tXSA",
        "colab_type": "code",
        "colab": {}
      },
      "source": [
        "a = 10 \n",
        "b = 20\n",
        "c = 30"
      ],
      "execution_count": 0,
      "outputs": []
    },
    {
      "cell_type": "code",
      "metadata": {
        "id": "-VJFbMBqtfTR",
        "colab_type": "code",
        "colab": {}
      },
      "source": [
        ""
      ],
      "execution_count": 0,
      "outputs": []
    }
  ]
}